{
  "nbformat": 4,
  "nbformat_minor": 0,
  "metadata": {
    "colab": {
      "provenance": [],
      "authorship_tag": "ABX9TyMhB6OsaIULm4gm5AHcbkzj",
      "include_colab_link": true
    },
    "kernelspec": {
      "name": "python3",
      "display_name": "Python 3"
    },
    "language_info": {
      "name": "python"
    }
  },
  "cells": [
    {
      "cell_type": "markdown",
      "metadata": {
        "id": "view-in-github",
        "colab_type": "text"
      },
      "source": [
        "<a href=\"https://colab.research.google.com/github/DiegoVongola/Teste-Job-Rotation/blob/main/Teste_Job_Rotation_Ribeir%C3%A3o_Preto_ATUALIZADO.ipynb\" target=\"_parent\"><img src=\"https://colab.research.google.com/assets/colab-badge.svg\" alt=\"Open In Colab\"/></a>"
      ]
    },
    {
      "cell_type": "markdown",
      "source": [
        "**Questão 3 - Job Rotation - Ribeirão Preto - ATUALIZADO**"
      ],
      "metadata": {
        "id": "8f9u2UldhXOt"
      }
    },
    {
      "cell_type": "code",
      "source": [
        "def fibonacci(n):\n",
        "    if n < 2:\n",
        "        return n\n",
        "    else:\n",
        "        return fibonacci(n-1) + fibonacci(n-2)\n",
        "\n",
        "# Informe o número que deseja verificar\n",
        "num = int(input(\"Digite um número inteiro: \"))\n",
        "\n",
        "# Encontre o número na sequência de Fibonacci\n",
        "encontrado = False\n",
        "n = 0\n",
        "while not encontrado:\n",
        "    fib = fibonacci(n)\n",
        "    if fib == num:\n",
        "        print(f\"{num} está na sequência de Fibonacci!\")\n",
        "        encontrado = True\n",
        "    elif fib > num:\n",
        "        print(f\"{num} não está na sequência de Fibonacci.\")\n",
        "        encontrado = True\n",
        "    n += 1\n",
        "\n"
      ],
      "metadata": {
        "colab": {
          "base_uri": "https://localhost:8080/"
        },
        "id": "1-weNFTDhZTK",
        "outputId": "9bb3f01e-1ec2-4f2b-cfa1-d110d8dabb3e"
      },
      "execution_count": 4,
      "outputs": [
        {
          "output_type": "stream",
          "name": "stdout",
          "text": [
            "Digite um número inteiro: 20\n",
            "20 não está na sequência de Fibonacci.\n"
          ]
        }
      ]
    },
    {
      "cell_type": "markdown",
      "source": [
        "**Questão 4 - Job Rotation - Ribeirão Preto - ATUALIZADO**"
      ],
      "metadata": {
        "id": "2U7NryxijOtZ"
      }
    },
    {
      "cell_type": "code",
      "source": [
        "def inverter_string(s):\n",
        "    # Converter a string em uma lista de caracteres\n",
        "    lista_chars = list(s)\n",
        "\n",
        "    # Trocar de posição os caracteres da lista\n",
        "    for i in range(len(lista_chars) // 2):\n",
        "        temp = lista_chars[i]\n",
        "        lista_chars[i] = lista_chars[len(lista_chars) - i - 1]\n",
        "        lista_chars[len(lista_chars) - i - 1] = temp\n",
        "\n",
        "    # Juntar a lista em uma string novamente\n",
        "    string_invertida = \"\".join(lista_chars)\n",
        "    \n",
        "    return string_invertida\n",
        "\n",
        "# Informe a string que deseja inverter\n",
        "s = input(\"Digite uma string: \")\n",
        "\n",
        "# Chamar a função para inverter a string\n",
        "s_invertida = inverter_string(s)\n",
        "\n",
        "# Imprimir a string invertida\n",
        "print(f\"A string invertida é: {s_invertida}\")"
      ],
      "metadata": {
        "colab": {
          "base_uri": "https://localhost:8080/"
        },
        "id": "94zj-K32jTuf",
        "outputId": "d5df1746-c025-40c6-c40d-671bb69b719d"
      },
      "execution_count": 5,
      "outputs": [
        {
          "output_type": "stream",
          "name": "stdout",
          "text": [
            "Digite uma string: pastel\n",
            "A string invertida é: letsap\n"
          ]
        }
      ]
    }
  ]
}